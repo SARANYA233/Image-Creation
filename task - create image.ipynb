{
 "cells": [
  {
   "cell_type": "code",
   "execution_count": 21,
   "metadata": {},
   "outputs": [],
   "source": [
    "import cv2  \n",
    "import numpy as np\n",
    "\n",
    "# Create a blank-image : black color\n",
    "\n",
    "blank_image = np.zeros((1800,1800,3))\n",
    "\n",
    "# To draw any shape provided you have its boundary points : drawContours\n",
    "\n",
    "# Draw triangle\n",
    "\n",
    "triangle_cnt = np.array( [(500,300),(300,500), (700,500)] )\n",
    "cv2.drawContours(blank_image, [triangle_cnt], 0, (150,0,0), -1)\n",
    "\n",
    "# Draw parallelogram\n",
    "\n",
    "parallelogram = np.array ( [(500, 300), (900,300),(1100,500),(700,500)])\n",
    "cv2.drawContours(blank_image, [parallelogram], 0, (25,0,255), -1)\n",
    "\n",
    "# To draw rectangle\n",
    "\n",
    "cv2.rectangle(blank_image, (700 , 500), (1100,800), (0,254,10), -1)\n",
    "cv2.rectangle(blank_image, (300 , 500), (700,800), (255,204,10), 2)\n",
    "cv2.rectangle(blank_image, (460 , 660), (540,800), (0, 0, 5), -1)\n",
    "\n",
    "# To draw line\n",
    "\n",
    "cv2.line(blank_image, (300, 800), (700,800), (255,204,10), 2)\n",
    "\n",
    "# To draw circle\n",
    "\n",
    "cv2.circle(blank_image, (1100, 150), 40, (255, 255, 255), -1)\n",
    "cv2.circle(blank_image, (500, 410), 40, (10, 210, 0), -1)\n",
    "\n",
    "# To write in image \n",
    "\n",
    "font = cv2.FONT_HERSHEY_SIMPLEX\n",
    "cv2.putText(blank_image, 'SWEET HOME ', (600, 50),font, 1.2,  (0, 10, 0), 2, cv2.LINE_AA)\n",
    "\n",
    "# Add an image in the window : display\n",
    "\n",
    "cv2.imshow(\"HOME\",blank_image)\n",
    "\n",
    "# wait for a specific time in milliseconds \n",
    "\n",
    "cv2.waitKey(0)\n",
    "\n",
    "# Destroys the window showing image\n",
    "\n",
    "cv2.destroyAllWindows()"
   ]
  },
  {
   "cell_type": "code",
   "execution_count": null,
   "metadata": {},
   "outputs": [],
   "source": []
  }
 ],
 "metadata": {
  "kernelspec": {
   "display_name": "Python 3",
   "language": "python",
   "name": "python3"
  },
  "language_info": {
   "codemirror_mode": {
    "name": "ipython",
    "version": 3
   },
   "file_extension": ".py",
   "mimetype": "text/x-python",
   "name": "python",
   "nbconvert_exporter": "python",
   "pygments_lexer": "ipython3",
   "version": "3.8.3"
  }
 },
 "nbformat": 4,
 "nbformat_minor": 4
}
